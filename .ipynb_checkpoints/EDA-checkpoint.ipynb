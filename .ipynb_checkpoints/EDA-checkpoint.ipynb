{
 "cells": [
  {
   "cell_type": "markdown",
   "id": "10a533f2",
   "metadata": {},
   "source": [
    "# EDA"
   ]
  },
  {
   "cell_type": "markdown",
   "id": "21662880",
   "metadata": {},
   "source": [
    "## Plan:\n",
    "\n",
    "- Hist plots and correlation for continous variables\n",
    "- Value counts for catagorical variables\n",
    "- Groupby on catagorical variables?\n",
    "- Pivot tables to see correlations with Evergreen or not"
   ]
  },
  {
   "cell_type": "code",
   "execution_count": null,
   "id": "c29e0c3c",
   "metadata": {},
   "outputs": [],
   "source": [
    "import numpy as np\n",
    "import pandas as pd\n",
    "import matplotlib.pyplot as plt\n",
    "import seaborn as sns\n",
    "%matplotlib inline"
   ]
  },
  {
   "cell_type": "code",
   "execution_count": null,
   "id": "b3ba6978",
   "metadata": {},
   "outputs": [],
   "source": [
    "df=pd.read_csv(\"data_cleaned.csv\")"
   ]
  },
  {
   "cell_type": "code",
   "execution_count": null,
   "id": "5d1364ef",
   "metadata": {},
   "outputs": [],
   "source": [
    "pd.set_option(\"display.max_columns\", None)\n",
    "df.head()"
   ]
  },
  {
   "cell_type": "code",
   "execution_count": null,
   "id": "34f58184",
   "metadata": {},
   "outputs": [],
   "source": [
    "df.columns"
   ]
  },
  {
   "cell_type": "code",
   "execution_count": null,
   "id": "30273270",
   "metadata": {},
   "outputs": [],
   "source": [
    "df_cat=df[['alchemy_category','hasDomainLink','is_news','lengthyLinkDomain','news_front_page','url_simp','label']]\n",
    "\n",
    "df_cont=df[[ 'alchemy_category_score',\n",
    "       'avglinksize', 'compression_ratio', 'frameTagRatio','html_ratio', 'image_ratio','linkwordscore','non_markup_alphanum_characters',\n",
    "       'numberOfLinks', 'numwords_in_url', 'parametrizedLinkRatio',\n",
    "       'spelling_errors_ratio','commonlinkratio']]"
   ]
  },
  {
   "cell_type": "code",
   "execution_count": null,
   "id": "2fb41523",
   "metadata": {},
   "outputs": [],
   "source": [
    "for i in df_cont.columns:\n",
    "    plt.hist(df_cont[i])\n",
    "    plt.title(i)\n",
    "    plt.show()"
   ]
  },
  {
   "cell_type": "markdown",
   "id": "357d8b45",
   "metadata": {},
   "source": [
    "Perhaps we should take the non-normal distributions and normalize them"
   ]
  },
  {
   "cell_type": "code",
   "execution_count": null,
   "id": "e08e0c49",
   "metadata": {},
   "outputs": [],
   "source": [
    "corr=df_cont.corr()\n",
    "corr"
   ]
  },
  {
   "cell_type": "code",
   "execution_count": null,
   "id": "37800e70",
   "metadata": {},
   "outputs": [],
   "source": [
    "plt.figure(figsize=(24,10))\n",
    "sns.set(font_scale=1.5)\n",
    "sns.heatmap(corr, xticklabels=corr.columns.values,\n",
    "            yticklabels=corr.columns.values,\n",
    "           cmap='coolwarm',\n",
    "           vmin=-0.7,\n",
    "            vmax=0.7,\n",
    "            center=0,\n",
    "           annot = True)"
   ]
  },
  {
   "cell_type": "code",
   "execution_count": null,
   "id": "2e24ab9a",
   "metadata": {},
   "outputs": [],
   "source": [
    "# Creating pivot table to find correlation between continuous variables and label(Evergreen or not)"
   ]
  },
  {
   "cell_type": "code",
   "execution_count": null,
   "id": "fc82c166",
   "metadata": {},
   "outputs": [],
   "source": [
    "training=df[[ 'alchemy_category_score',\n",
    "       'avglinksize', 'compression_ratio', 'frameTagRatio','html_ratio', 'image_ratio','linkwordscore','non_markup_alphanum_characters',\n",
    "       'numberOfLinks', 'numwords_in_url', 'parametrizedLinkRatio',\n",
    "       'spelling_errors_ratio','commonlinkratio','label']]"
   ]
  },
  {
   "cell_type": "code",
   "execution_count": null,
   "id": "dacaa463",
   "metadata": {},
   "outputs": [],
   "source": [
    "# Comparing EverGreen or not by differnet continuous variables\n",
    "pd.pivot_table(training,index=\"label\",values=['alchemy_category_score',\n",
    "       'avglinksize', 'compression_ratio', 'frameTagRatio','html_ratio', 'image_ratio','linkwordscore','non_markup_alphanum_characters',\n",
    "       'numberOfLinks', 'numwords_in_url', 'parametrizedLinkRatio',\n",
    "       'spelling_errors_ratio','commonlinkratio'])"
   ]
  },
  {
   "cell_type": "markdown",
   "id": "c7b4f1af",
   "metadata": {},
   "source": [
    "I don't see a particularly large correlation between any variables and the label of if the website is Evergreen or not. However, the few that stand out are:\n",
    "- Compression ratio(higher in non-evergreen)\n",
    "- Image_ratio(higher in non-evergreen)\n",
    "- linkwordscore(higher in non-evergreen)\n",
    "- non_markup_alphanum_characters(higher in evergreen)\n",
    "- number of links(higher in evergreen)"
   ]
  },
  {
   "cell_type": "markdown",
   "id": "5301827a",
   "metadata": {},
   "source": [
    "## Value Count charts for Catagorical Variables"
   ]
  },
  {
   "cell_type": "code",
   "execution_count": null,
   "id": "b9ee6de8",
   "metadata": {},
   "outputs": [],
   "source": [
    "for i in df_cat.columns:\n",
    "    sns.countplot(data=df_cat,x=i)\n",
    "    plt.xticks(rotation=90)\n",
    "    plt.show()"
   ]
  },
  {
   "cell_type": "code",
   "execution_count": null,
   "id": "b4651478",
   "metadata": {},
   "outputs": [],
   "source": [
    "# Let's replace the \"?\" values in the alchemy category with \"other\" and also drop categories labeled as unknown. \n",
    "\n",
    "df[\"alchemy_category\"]=df[\"alchemy_category\"].apply(lambda x:x.replace(\"?\",\"other\"))\n",
    "df=df[df[\"alchemy_category\"]!=\"unknown\"]"
   ]
  },
  {
   "cell_type": "code",
   "execution_count": null,
   "id": "51a643b6",
   "metadata": {},
   "outputs": [],
   "source": [
    "df.info()"
   ]
  },
  {
   "cell_type": "code",
   "execution_count": null,
   "id": "bcac2b76",
   "metadata": {},
   "outputs": [],
   "source": [
    "# Let's also replace the \"?\" in news_front_page to 0 because that is the mode. \n",
    "df[\"news_front_page\"]=df[\"news_front_page\"].apply(lambda x:x.replace(\"?\",\"0\"))"
   ]
  },
  {
   "cell_type": "code",
   "execution_count": null,
   "id": "14bef35c",
   "metadata": {},
   "outputs": [],
   "source": [
    "# Let's re-run the df_cat and df_cont and training dataframes to update it with the changes we have made\n",
    "\n",
    "df_cat=df[['alchemy_category','hasDomainLink','is_news','lengthyLinkDomain','news_front_page','url_simp','label']]\n",
    "\n",
    "df_cont=df[[ 'alchemy_category_score',\n",
    "       'avglinksize', 'compression_ratio', 'frameTagRatio','html_ratio', 'image_ratio','linkwordscore','non_markup_alphanum_characters',\n",
    "       'numberOfLinks', 'numwords_in_url', 'parametrizedLinkRatio',\n",
    "       'spelling_errors_ratio','commonlinkratio']]\n",
    "training=df[[ 'alchemy_category_score',\n",
    "       'avglinksize', 'compression_ratio', 'frameTagRatio','html_ratio', 'image_ratio','linkwordscore','non_markup_alphanum_characters',\n",
    "       'numberOfLinks', 'numwords_in_url', 'parametrizedLinkRatio',\n",
    "       'spelling_errors_ratio','commonlinkratio','label']]"
   ]
  },
  {
   "cell_type": "code",
   "execution_count": null,
   "id": "288efb7f",
   "metadata": {},
   "outputs": [],
   "source": [
    "# Let's look more specifically at the catagorical columns and their relationship with whether the website is evergreen\n",
    "# or not. \n",
    "# Let's do this by grouping by the column and taking the mean of the label. "
   ]
  },
  {
   "cell_type": "code",
   "execution_count": null,
   "id": "e7e5561e",
   "metadata": {},
   "outputs": [],
   "source": [
    "df.groupby(\"alchemy_category\").mean()[\"label\"]"
   ]
  },
  {
   "cell_type": "code",
   "execution_count": null,
   "id": "54c07780",
   "metadata": {},
   "outputs": [],
   "source": [
    "# Creating barplots showing correlation between catagorical variables and label\n",
    "plt.figure(figsize=(16,8))\n",
    "for i in df_cat.columns:\n",
    "    sns.barplot(data=df_cat,x=i,y=\"label\")\n",
    "    plt.xticks(rotation=45) \n",
    "    plt.show()\n"
   ]
  },
  {
   "cell_type": "markdown",
   "id": "ce984757",
   "metadata": {},
   "source": [
    "## Feature Engineering"
   ]
  },
  {
   "cell_type": "code",
   "execution_count": null,
   "id": "d972af7a",
   "metadata": {},
   "outputs": [],
   "source": [
    "df.columns"
   ]
  },
  {
   "cell_type": "code",
   "execution_count": null,
   "id": "830ede81",
   "metadata": {},
   "outputs": [],
   "source": [
    "# First let's change the null values to \"?\" and remove all nulls\n",
    "\n",
    "df=df.replace('?',np.NaN)\n",
    "# Let's also change the \"others\" value i set in alchemy category to null \n",
    "\n",
    "df[\"alchemy_category\"]=df[\"alchemy_category\"].replace('other',np.NaN)"
   ]
  },
  {
   "cell_type": "code",
   "execution_count": null,
   "id": "ded1dfda",
   "metadata": {},
   "outputs": [],
   "source": [
    "df.isna().sum()\n",
    "\n",
    "# Let's drop all na values\n",
    "\n",
    "df.dropna(axis=1,inplace=True)"
   ]
  },
  {
   "cell_type": "code",
   "execution_count": null,
   "id": "368e3b8b",
   "metadata": {},
   "outputs": [],
   "source": [
    "df.isnull().sum()"
   ]
  },
  {
   "cell_type": "code",
   "execution_count": null,
   "id": "c28a4c7d",
   "metadata": {},
   "outputs": [],
   "source": [
    "# Let's simplify the url_simp category as there are too many different categories.\n",
    "\n",
    "df[\"url_simp\"].value_counts().head(30)"
   ]
  },
  {
   "cell_type": "code",
   "execution_count": null,
   "id": "a5c17575",
   "metadata": {},
   "outputs": [],
   "source": [
    "df[\"url_simp\"].nunique()"
   ]
  },
  {
   "cell_type": "code",
   "execution_count": null,
   "id": "956c506a",
   "metadata": {},
   "outputs": [],
   "source": [
    "# To make the model count we have to change the column to the amount of times the url was entered.\n",
    "# Let's create categories based on the count of each url "
   ]
  },
  {
   "cell_type": "code",
   "execution_count": null,
   "id": "8867b519",
   "metadata": {},
   "outputs": [],
   "source": [
    "for i in df"
   ]
  },
  {
   "cell_type": "code",
   "execution_count": null,
   "id": "1ae442f7",
   "metadata": {},
   "outputs": [],
   "source": [
    "df[\"url_simp\"].unique().value_counts()"
   ]
  },
  {
   "cell_type": "code",
   "execution_count": null,
   "id": "1ced9ee8",
   "metadata": {},
   "outputs": [],
   "source": [
    "df_groupby=df.groupby(\"url_simp\").count()"
   ]
  },
  {
   "cell_type": "code",
   "execution_count": null,
   "id": "cf0849e7",
   "metadata": {},
   "outputs": [],
   "source": [
    "df_groupby.reset_index(inplace=True)"
   ]
  },
  {
   "cell_type": "code",
   "execution_count": null,
   "id": "26d833d3",
   "metadata": {},
   "outputs": [],
   "source": [
    "df_groupby.head()"
   ]
  },
  {
   "cell_type": "code",
   "execution_count": null,
   "id": "7ae03c30",
   "metadata": {},
   "outputs": [],
   "source": [
    "df_groupby.info()"
   ]
  },
  {
   "cell_type": "code",
   "execution_count": null,
   "id": "f7a7bdc0",
   "metadata": {},
   "outputs": [],
   "source": [
    "def count_url():\n",
    "    if df_groupby[\"url\"]>90:\n",
    "        x==\"A\"\n",
    "    elif df_groupby[\"url\"]>50:\n",
    "        x==\"B\"\n",
    "    elif df_groupby[\"url\"]>30:\n",
    "        x==\"C\"\n",
    "    elif df_groupby[\"url\"]>15:\n",
    "        x==\"D\"\n",
    "    elif df_groupby[\"url\"]>10:\n",
    "        x==\"E\"\n",
    "    elif df_groupby[\"url\"]>5:\n",
    "        x==\"F\"\n",
    "    elif df_groupby[\"url\"]>2:\n",
    "        x==\"G\"\n",
    "    else:\n",
    "        x==\"H\"\n",
    "    return x"
   ]
  },
  {
   "cell_type": "code",
   "execution_count": null,
   "id": "f299732a",
   "metadata": {},
   "outputs": [],
   "source": []
  },
  {
   "cell_type": "code",
   "execution_count": null,
   "id": "892269d6",
   "metadata": {},
   "outputs": [],
   "source": [
    "#df[\"count_url\"]=df_groupby[\"url_simp\"].apply(lambda x:counturl(x))"
   ]
  },
  {
   "cell_type": "code",
   "execution_count": null,
   "id": "5a69822a",
   "metadata": {},
   "outputs": [],
   "source": [
    "df.head()"
   ]
  },
  {
   "cell_type": "code",
   "execution_count": null,
   "id": "b09e5c0e",
   "metadata": {},
   "outputs": [],
   "source": [
    "#df['url_category']"
   ]
  },
  {
   "cell_type": "code",
   "execution_count": null,
   "id": "d7d9b1e5",
   "metadata": {},
   "outputs": [],
   "source": [
    "url_count_df = pd.DataFrame(df['url_simp'].value_counts()).reset_index()\n",
    "url_count_dict = {}\n",
    "for i in range(url_count_df.shape[0]):\n",
    "    url_count_dict[url_count_df['index'][i]] = url_count_df['url_simp'][i]\n",
    "url_count_dict"
   ]
  },
  {
   "cell_type": "code",
   "execution_count": null,
   "id": "27952e6e",
   "metadata": {},
   "outputs": [],
   "source": [
    "url_count = []\n",
    "for i in range(df.shape[0]):\n",
    "    url = df['url_simp'].iloc[i]\n",
    "    count = url_count_dict[url]\n",
    "    url_count.append(count)\n",
    "\n",
    "df['url_count'] = url_count\n",
    "df.head()"
   ]
  },
  {
   "cell_type": "code",
   "execution_count": null,
   "id": "f3f6ef55",
   "metadata": {},
   "outputs": [],
   "source": [
    "def categorize_url(url_count):\n",
    "    if url_count>90:\n",
    "        cat==\"A\"\n",
    "    elif url_count>50:\n",
    "        cat==\"B\"\n",
    "    else:\n",
    "        cat==\"C\"\n",
    "    return cat"
   ]
  },
  {
   "cell_type": "code",
   "execution_count": null,
   "id": "905d7aca",
   "metadata": {},
   "outputs": [],
   "source": []
  }
 ],
 "metadata": {
  "kernelspec": {
   "display_name": "Python 3",
   "language": "python",
   "name": "python3"
  },
  "language_info": {
   "codemirror_mode": {
    "name": "ipython",
    "version": 3
   },
   "file_extension": ".py",
   "mimetype": "text/x-python",
   "name": "python",
   "nbconvert_exporter": "python",
   "pygments_lexer": "ipython3",
   "version": "3.8.8"
  }
 },
 "nbformat": 4,
 "nbformat_minor": 5
}
